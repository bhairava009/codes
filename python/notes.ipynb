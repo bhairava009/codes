{
 "cells": [
  {
   "cell_type": "markdown",
   "id": "0bad09f0",
   "metadata": {},
   "source": [
    "### Types of Operators in Python\n",
    "\n",
    "Arithmetic Operators\n",
    "\n",
    "Comparison Operators\n",
    "\n",
    "Logical Operators\n",
    "\n",
    "Bitwise Operators\n",
    "\n",
    "Assignment Operators\n",
    "\n",
    "Identity Operators and Membership Operators"
   ]
  },
  {
   "cell_type": "markdown",
   "id": "b7819de1",
   "metadata": {},
   "source": []
  },
  {
   "cell_type": "code",
   "execution_count": null,
   "id": "1f9bccd7",
   "metadata": {},
   "outputs": [],
   "source": [
    "common lists methods\n",
    "method       descriptions\n",
    "append       add an item to the end of the list\n",
    "clear()      remove all items from the list\n",
    "copy()       return a shallow copy of the list\n",
    "count()      return the number of occurrences of an item in the list\n",
    "extend()     extend the list by appending elements from an iterable\n",
    "index()      return the index of the first occurrence of an item in the list\n",
    "insert()     insert an item at a given position\n",
    "pop()        remove and return an item at the given position in the list\n",
    "remove()     remove the first occurrence of an item from the list\n",
    "reverse()    reverse the elements of the list in place\n",
    "sort()       sort the items of the list in place (the arguments can be used for sort customization)\n",
    "\n",
    "\n",
    "\n",
    "\n",
    "common dictionary methods\n",
    "method       descriptions\n",
    "clear()      remove all items from the dictionary\n",
    "copy()       return a shallow copy of the dictionary\n",
    "get()        return the value for a key if it exists in the dictionary, else None   \n",
    "items()      return a view object that displays a list of a dictionary's key-value tuple pairs\n",
    "keys()       return a view object that displays a list of all the keys in the dictionary\n",
    "values()     return a view object that displays a list of all the values in the dictionary\n",
    "pop()        remove the specified key and return the corresponding value\n",
    "keys()       return a view object that displays a list of all the keys in the dictionary\n",
    "popitem()    remove and return a (key, value) pair from the dictionary\n",
    "setdefault() return the value of a key if it is in the dictionary, else set it to a default value\n",
    "update()     update the dictionary with the key/value pairs from another dictionary or from an iterable of key/value pairs\n",
    "\n",
    "\n",
    "\n",
    "\n",
    "\n",
    "\n",
    "\n",
    "\n",
    "\n"
   ]
  }
 ],
 "metadata": {
  "language_info": {
   "name": "python"
  }
 },
 "nbformat": 4,
 "nbformat_minor": 5
}
