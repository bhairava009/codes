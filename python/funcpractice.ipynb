{
 "cells": [
  {
   "cell_type": "markdown",
   "id": "27701c9b",
   "metadata": {
    "vscode": {
     "languageId": "plaintext"
    }
   },
   "source": [
    "### F1\n",
    "Write a function get_max(num1, num2) that returns the maximum of the two numbers.\n"
   ]
  },
  {
   "cell_type": "code",
   "execution_count": 9,
   "id": "4943931d",
   "metadata": {},
   "outputs": [
    {
     "name": "stdout",
     "output_type": "stream",
     "text": [
      "20\n"
     ]
    }
   ],
   "source": [
    "def get_max(num1, num2):\n",
    "    return num1 if num1 > num2 else num2\n",
    "\n",
    "x=get_max(10, 20)\n",
    "print(x)"
   ]
  },
  {
   "cell_type": "markdown",
   "id": "c99c6d37",
   "metadata": {},
   "source": []
  },
  {
   "cell_type": "markdown",
   "id": "81adb067",
   "metadata": {},
   "source": [
    "###\n",
    " Write a function count_vowels(s) that returns the number of vowels in the given string.\n",
    " Input: \"Hello World\"\n",
    " Output: 3"
   ]
  },
  {
   "cell_type": "code",
   "execution_count": 10,
   "id": "8d5ccec6",
   "metadata": {},
   "outputs": [
    {
     "name": "stdout",
     "output_type": "stream",
     "text": [
      "3\n"
     ]
    }
   ],
   "source": [
    "def count_vowels(s):\n",
    "    vowels=\"aeoiuAEIOU\"\n",
    "    count=0\n",
    "    for char in s:\n",
    "        if char in vowels:\n",
    "            count+=1\n",
    "    return count\n",
    "\n",
    "x=count_vowels(\"hello world\")\n",
    "print(x)"
   ]
  },
  {
   "cell_type": "markdown",
   "id": "8293595f",
   "metadata": {},
   "source": [
    "###\n",
    " Write a function sum_numbers(lst) that returns the sum of all numbers in a list.\n",
    "\n",
    " Input : [1,2,3,4,5]\n",
    " Output : 15"
   ]
  },
  {
   "cell_type": "code",
   "execution_count": 11,
   "id": "700a3851",
   "metadata": {},
   "outputs": [
    {
     "name": "stdout",
     "output_type": "stream",
     "text": [
      "15\n"
     ]
    }
   ],
   "source": [
    "def sum_numbers(lst):\n",
    "    return sum(lst)\n",
    "\n",
    "input=[1,2,3,4,5]\n",
    "x=sum_numbers(input)\n",
    "print(x)"
   ]
  },
  {
   "cell_type": "markdown",
   "id": "712eef2f",
   "metadata": {},
   "source": [
    "### \n",
    "Write a function get_min_max(lst) that returns the minimum and maximum of the list .\n",
    "Input: [3, 5, 1, 9, 7]\n",
    "Output: (1, 9)"
   ]
  },
  {
   "cell_type": "code",
   "execution_count": 17,
   "id": "fd5bda4c",
   "metadata": {},
   "outputs": [
    {
     "name": "stdout",
     "output_type": "stream",
     "text": [
      "The Max IS  9 and the min is  1\n"
     ]
    }
   ],
   "source": [
    "def get_max_min(lst):\n",
    "    print(f\"The Max IS  {max(lst)} and the min is  {min(lst)}\")\n",
    "    return\n",
    "lst=[1,3,5,7,9]\n",
    "get_max_min(lst)"
   ]
  },
  {
   "cell_type": "markdown",
   "id": "a8e6b42a",
   "metadata": {},
   "source": [
    "###\n",
    "f5\n",
    "Write a function word_frequency(sentence) that returns a dictionary with word frequency.\n",
    "Input: \"this is a test this is not fun\"\n",
    "Output: {'this': 2, 'is': 2, 'a': 1, 'test': 1, 'not': 1, 'fun': 1}"
   ]
  },
  {
   "cell_type": "code",
   "execution_count": 18,
   "id": "a9f3a1e0",
   "metadata": {},
   "outputs": [
    {
     "data": {
      "text/plain": [
       "{'this': 2, 'is': 2, 'a': 1, 'test': 1, 'not': 1, 'fun': 1}"
      ]
     },
     "execution_count": 18,
     "metadata": {},
     "output_type": "execute_result"
    }
   ],
   "source": [
    "def word_frequency(sentence):\n",
    "    words = sentence.split()\n",
    "    frequency = {}\n",
    "    for word in words:\n",
    "        if word in frequency:\n",
    "            frequency[word] += 1\n",
    "        else:\n",
    "            frequency[word] = 1\n",
    "    return frequency\n",
    "\n",
    "input=\"this is a test this is not fun\"\n",
    "word_frequency(input)\n",
    "\n",
    "\n",
    "\n",
    "    "
   ]
  },
  {
   "cell_type": "markdown",
   "id": "22bf04b4",
   "metadata": {},
   "source": [
    "###\n",
    "f6 \n",
    "Write a python function to remove duplicates from a dictionary\n",
    "\n",
    "  data = [\n",
    "{\"id\": 1, \"name\": \"Alice\"}, \n",
    "  {\"id\": 2, \"name\": \"Bob\"},\n",
    " {\"id\": 1, \"name\": \"Charlie\"}, \n",
    " {\"id\": 3, \"name\": \"Alice\"}\n",
    " ]"
   ]
  },
  {
   "cell_type": "code",
   "execution_count": 23,
   "id": "37170b47",
   "metadata": {},
   "outputs": [
    {
     "name": "stdout",
     "output_type": "stream",
     "text": [
      "[{'id': 1, 'name': 'Alice'}, {'id': 2, 'name': 'Bob'}, {'id': 3, 'name': 'Alice'}]\n"
     ]
    }
   ],
   "source": [
    "def remove_duplicates(data):\n",
    "    s_ids=set()\n",
    "    u_data=[]\n",
    "    for entry in data:\n",
    "        if entry['id'] not in s_ids:\n",
    "            s_ids.add(entry['id'])\n",
    "            u_data.append(entry)\n",
    "    \n",
    "    return u_data\n",
    "data = [\n",
    "    {\"id\": 1, \"name\": \"Alice\"},\n",
    "    {\"id\": 2, \"name\": \"Bob\"},\n",
    "    {\"id\": 1, \"name\": \"Charlie\"},\n",
    "    {\"id\": 3, \"name\": \"Alice\"}\n",
    "]\n",
    "x=remove_duplicates(data)\n",
    "print(x)\n",
    "\n",
    "\n",
    "\n",
    "\n"
   ]
  },
  {
   "cell_type": "markdown",
   "id": "00dce72a",
   "metadata": {},
   "source": [
    "###\n",
    "Write a Python code to print the factorial \n",
    "Formula : n! = n*(n-1)*....*1(base : 0! = 1)\n",
    "\n",
    "Take the input from the user as n , \n",
    "\n",
    "Example : \n",
    "Input : 5\n",
    "Output : 120"
   ]
  },
  {
   "cell_type": "code",
   "execution_count": null,
   "id": "90fc3c81",
   "metadata": {},
   "outputs": [],
   "source": []
  },
  {
   "cell_type": "code",
   "execution_count": null,
   "id": "5ee5ea97",
   "metadata": {},
   "outputs": [],
   "source": []
  },
  {
   "cell_type": "code",
   "execution_count": null,
   "id": "74f904d5",
   "metadata": {},
   "outputs": [],
   "source": []
  }
 ],
 "metadata": {
  "kernelspec": {
   "display_name": "Python 3",
   "language": "python",
   "name": "python3"
  },
  "language_info": {
   "codemirror_mode": {
    "name": "ipython",
    "version": 3
   },
   "file_extension": ".py",
   "mimetype": "text/x-python",
   "name": "python",
   "nbconvert_exporter": "python",
   "pygments_lexer": "ipython3",
   "version": "3.13.5"
  }
 },
 "nbformat": 4,
 "nbformat_minor": 5
}
